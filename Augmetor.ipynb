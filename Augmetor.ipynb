{
  "cells": [
    {
      "cell_type": "code",
      "execution_count": null,
      "metadata": {
        "colab": {
          "base_uri": "https://localhost:8080/"
        },
        "id": "fBXGVpgMK_v4",
        "outputId": "939f1809-85f3-4885-ecb2-13fd7384cf35"
      },
      "outputs": [
        {
          "output_type": "stream",
          "name": "stdout",
          "text": [
            "Looking in indexes: https://pypi.org/simple, https://us-python.pkg.dev/colab-wheels/public/simple/\n",
            "Collecting Augmentor\n",
            "  Downloading Augmentor-0.2.12-py2.py3-none-any.whl (38 kB)\n",
            "Requirement already satisfied: Pillow>=5.2.0 in /usr/local/lib/python3.10/dist-packages (from Augmentor) (8.4.0)\n",
            "Requirement already satisfied: tqdm>=4.9.0 in /usr/local/lib/python3.10/dist-packages (from Augmentor) (4.65.0)\n",
            "Requirement already satisfied: numpy>=1.11.0 in /usr/local/lib/python3.10/dist-packages (from Augmentor) (1.22.4)\n",
            "Installing collected packages: Augmentor\n",
            "Successfully installed Augmentor-0.2.12\n"
          ]
        }
      ],
      "source": [
        "pip install Augmentor"
      ]
    },
    {
      "cell_type": "code",
      "execution_count": null,
      "metadata": {
        "id": "qImv9T7ZFrAu"
      },
      "outputs": [],
      "source": [
        "from google.colab import drive\n",
        "drive.mount('/content/drive')"
      ]
    },
    {
      "cell_type": "code",
      "execution_count": null,
      "metadata": {
        "id": "iNvNMwB70W9W"
      },
      "outputs": [],
      "source": [
        "# 1 좌우반전\n",
        "import Augmentor\n",
        "img1 = Augmentor.Pipeline(\"/content/drive/MyDrive/Aug_test\")\n",
        "img1.flip_left_right(probability=1.0)\n",
        "img1.process()"
      ]
    },
    {
      "cell_type": "code",
      "execution_count": null,
      "metadata": {
        "id": "S9GWsYwosAJs"
      },
      "outputs": [],
      "source": [
        "# 2 상하반전\n",
        "import Augmentor\n",
        "img2 = Augmentor.Pipeline(\"/content/drive/MyDrive/Aug_test\")\n",
        "img2.flip_top_bottom(probability=1.0)\n",
        "img2.process(7)"
      ]
    },
    {
      "cell_type": "code",
      "execution_count": null,
      "metadata": {
        "id": "jryDUxVGsDVl"
      },
      "outputs": [],
      "source": [
        "# 3 모퉁이왜곡\n",
        "import Augmentor\n",
        "img = Augmentor.Pipeline(\"/content/drive/MyDrive/Aug_test\")\n",
        "img.skew_corner(probability=1.0)\n",
        "img.process()"
      ]
    },
    {
      "cell_type": "code",
      "execution_count": null,
      "metadata": {
        "id": "3CeuGL6EsZU0"
      },
      "outputs": [],
      "source": [
        "# 4 회전&크롭\n",
        "import Augmentor\n",
        "img = Augmentor.Pipeline(\"/content/drive/MyDrive/Aug_test\")\n",
        "img.rotate_without_crop(probability=1, max_left_rotation=0.8, max_right_rotation=0.8, expand=False, fillcolor=None)\n",
        "img.process()"
      ]
    },
    {
      "cell_type": "code",
      "execution_count": null,
      "metadata": {
        "id": "GHdIjDwDsiVM"
      },
      "outputs": [],
      "source": [
        "# 5 왜곡\n",
        "import Augmentor\n",
        "img = Augmentor.Pipeline(\"/content/drive/MyDrive/Aug_test\")\n",
        "img.random_distortion(probability=1, grid_width=10, grid_height=10, magnitude=30)\n",
        "img.process()"
      ]
    },
    {
      "cell_type": "code",
      "execution_count": null,
      "metadata": {
        "id": "i7zVWaQNso1h"
      },
      "outputs": [],
      "source": [
        "# 6 크롭\n",
        "import Augmentor\n",
        "img = Augmentor.Pipeline(\"/content/drive/MyDrive/Aug_test\")\n",
        "img.crop_random(probability=1, percentage_area=0.8, randomise_percentage_area=False)\n",
        "img.process()"
      ]
    },
    {
      "cell_type": "code",
      "execution_count": null,
      "metadata": {
        "id": "E4zcczRlsv_R"
      },
      "outputs": [],
      "source": [
        "# 7 랜덤지우기\n",
        "import Augmentor\n",
        "img = Augmentor.Pipeline(\"/content/drive/MyDrive/Aug_test\")\n",
        "img.random_erasing(probability=1.0, rectangle_area=0.3)\n",
        "img.process()"
      ]
    },
    {
      "cell_type": "code",
      "execution_count": null,
      "metadata": {
        "colab": {
          "base_uri": "https://localhost:8080/"
        },
        "id": "rMGIadkyzTCB",
        "outputId": "b975cbe2-1f7b-4fe2-cc9d-cb78f9e5b1b3"
      },
      "outputs": [
        {
          "output_type": "stream",
          "name": "stdout",
          "text": [
            "Initialised with 1 image(s) found.\n",
            "Output directory set to /content/drive/MyDrive/중증/output."
          ]
        },
        {
          "output_type": "stream",
          "name": "stderr",
          "text": [
            "Processing <PIL.Image.Image image mode=RGB size=640x480 at 0x7FA3A415D990>: 100%|██████████| 1/1 [00:00<00:00, 33.14 Samples/s]\n"
          ]
        },
        {
          "output_type": "stream",
          "name": "stdout",
          "text": [
            "Initialised with 1 image(s) found.\n",
            "Output directory set to /content/drive/MyDrive/중증/output."
          ]
        },
        {
          "output_type": "stream",
          "name": "stderr",
          "text": [
            "Processing <PIL.Image.Image image mode=RGB size=640x480 at 0x7FA3A415D5A0>: 100%|██████████| 1/1 [00:00<00:00, 34.13 Samples/s]\n"
          ]
        },
        {
          "output_type": "stream",
          "name": "stdout",
          "text": [
            "Initialised with 1 image(s) found.\n",
            "Output directory set to /content/drive/MyDrive/중증/output."
          ]
        },
        {
          "output_type": "stream",
          "name": "stderr",
          "text": [
            "Processing <PIL.Image.Image image mode=RGB size=640x480 at 0x7FA3A415DF90>: 100%|██████████| 1/1 [00:00<00:00, 12.06 Samples/s]\n"
          ]
        },
        {
          "output_type": "stream",
          "name": "stdout",
          "text": [
            "Initialised with 1 image(s) found.\n",
            "Output directory set to /content/drive/MyDrive/중증/output."
          ]
        },
        {
          "output_type": "stream",
          "name": "stderr",
          "text": [
            "Processing <PIL.Image.Image image mode=RGB size=640x480 at 0x7FA3A415E650>: 100%|██████████| 1/1 [00:00<00:00, 17.52 Samples/s]\n"
          ]
        },
        {
          "output_type": "stream",
          "name": "stdout",
          "text": [
            "Initialised with 1 image(s) found.\n",
            "Output directory set to /content/drive/MyDrive/중증/output."
          ]
        },
        {
          "output_type": "stream",
          "name": "stderr",
          "text": [
            "Processing <PIL.Image.Image image mode=RGB size=640x480 at 0x7FA3A415E6B0>: 100%|██████████| 1/1 [00:00<00:00, 15.28 Samples/s]\n"
          ]
        },
        {
          "output_type": "stream",
          "name": "stdout",
          "text": [
            "Initialised with 1 image(s) found.\n",
            "Output directory set to /content/drive/MyDrive/중증/output."
          ]
        },
        {
          "output_type": "stream",
          "name": "stderr",
          "text": [
            "Processing <PIL.Image.Image image mode=RGB size=512x384 at 0x7FA3A415E980>: 100%|██████████| 1/1 [00:00<00:00, 36.34 Samples/s]\n"
          ]
        },
        {
          "output_type": "stream",
          "name": "stdout",
          "text": [
            "Initialised with 1 image(s) found.\n",
            "Output directory set to /content/drive/MyDrive/중증/output."
          ]
        },
        {
          "output_type": "stream",
          "name": "stderr",
          "text": [
            "Processing <PIL.JpegImagePlugin.JpegImageFile image mode=RGB size=640x480 at 0x7FA3A415E170>: 100%|██████████| 1/1 [00:00<00:00, 32.05 Samples/s]\n"
          ]
        }
      ],
      "source": [
        "# 1 좌우반전\n",
        "import Augmentor\n",
        "img1 = Augmentor.Pipeline(\"/content/drive/MyDrive/중증\")\n",
        "img1.flip_left_right(probability=1.0)\n",
        "img1.process()\n",
        "\n",
        "# 2 상하반전\n",
        "img2 = Augmentor.Pipeline(\"/content/drive/MyDrive/중증\")\n",
        "img2.flip_top_bottom(probability=1.0)\n",
        "img2.process()\n",
        "\n",
        "# 3 모퉁이왜곡\n",
        "img3 = Augmentor.Pipeline(\"/content/drive/MyDrive/중증\")\n",
        "img3.skew_corner(probability=1.0)\n",
        "img3.process()\n",
        "\n",
        "# 4 회전&크롭\n",
        "img4 = Augmentor.Pipeline(\"/content/drive/MyDrive/중증\")\n",
        "img4.rotate_without_crop(probability=1, max_left_rotation=0.8, max_right_rotation=0.8, expand=False, fillcolor=None)\n",
        "img4.process()\n",
        "\n",
        "# 5 왜곡\n",
        "img5 = Augmentor.Pipeline(\"/content/drive/MyDrive/중증\")\n",
        "img5.random_distortion(probability=1, grid_width=10, grid_height=10, magnitude=30)\n",
        "img5.process()\n",
        "\n",
        "# 6 크롭\n",
        "img6 = Augmentor.Pipeline(\"/content/drive/MyDrive/중증\")\n",
        "img6.crop_random(probability=1, percentage_area=0.8, randomise_percentage_area=False)\n",
        "img6.process()\n",
        "\n",
        "# 7 랜덤지우기\n",
        "img7 = Augmentor.Pipeline(\"/content/drive/MyDrive/중증\")\n",
        "img7.random_erasing(probability=1.0, rectangle_area=0.3)\n",
        "img7.process()"
      ]
    },
    {
      "cell_type": "code",
      "execution_count": null,
      "metadata": {
        "id": "st0-J-x47FQx"
      },
      "outputs": [],
      "source": []
    }
  ],
  "metadata": {
    "accelerator": "GPU",
    "colab": {
      "provenance": []
    },
    "gpuClass": "standard",
    "kernelspec": {
      "display_name": "Python 3",
      "name": "python3"
    },
    "language_info": {
      "name": "python"
    }
  },
  "nbformat": 4,
  "nbformat_minor": 0
}